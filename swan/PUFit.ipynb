{
 "cells": [
  {
   "cell_type": "code",
   "execution_count": null,
   "id": "cf09bfc3",
   "metadata": {},
   "outputs": [],
   "source": [
    "from PUDataProvider import PUDataLoader"
   ]
  },
  {
   "cell_type": "code",
   "execution_count": null,
   "id": "0f2eae3c",
   "metadata": {
    "scrolled": false
   },
   "outputs": [],
   "source": [
    "puds = PUDataLoader( \"test1\", [279116,278804 ], 'nVertices', 'PHYSICSDel', MCTUNE = 5 ,\n",
    "                    var_nb = -1 , var_f = None, var_l = None , lumi_steps = 10 , lumi_nbinsperstep = 1 , xs_nb = 100 , xs_f = 0 , xs_l = 100 );"
   ]
  },
  {
   "cell_type": "code",
   "execution_count": null,
   "id": "c0ad487d",
   "metadata": {},
   "outputs": [],
   "source": [
    "puds.FitAllRanges()"
   ]
  },
  {
   "cell_type": "code",
   "execution_count": null,
   "id": "fd8718ff",
   "metadata": {},
   "outputs": [],
   "source": [
    "import ROOT\n",
    "c = ROOT.TCanvas(\"C\")\n",
    "%jsroot on\n",
    "puds.graphSigmaVsLumi.Draw(\"APL\")\n",
    "c.Draw()"
   ]
  },
  {
   "cell_type": "code",
   "execution_count": null,
   "id": "f998a176",
   "metadata": {},
   "outputs": [],
   "source": [
    "def plotLumiRange(i):\n",
    "    canvas = ROOT.TCanvas(\"canvas_range{0}\".format(i))\n",
    "    lumiallRange[i].append( canvas )\n",
    "    canvas.Divide(3)\n",
    "    canvas.cd(1)\n",
    "    lumiallRange[i][3].Draw(\"\")\n",
    "    \n",
    "    canvas.cd(2)\n",
    "    frame = variable.frame()\n",
    "    lumiallRange[i][6].plotOn(frame)\n",
    "    lumiallRange[i][4].plotOn(frame) \n",
    "    frame.Draw()\n",
    "    \n",
    "    canvas.cd(3)\n",
    "    hpull = frame.pullHist()\n",
    "    frame2 = variable.frame()\n",
    "    frame2.addPlotable(hpull, \"P\")\n",
    "    frame2.GetYaxis().SetTitleOffset(1.6)\n",
    "    frame2.Draw()\n",
    "    \n",
    "    canvas.Draw()\n",
    "    \n",
    "plotLumiRange(1)"
   ]
  },
  {
   "cell_type": "code",
   "execution_count": null,
   "id": "30bfe08d",
   "metadata": {},
   "outputs": [],
   "source": [
    "def clearhist(h):\n",
    "    for j in range(20,80):\n",
    "        h.SetBinContent(1,j,0)\n",
    "clearhist(hPUvsVar)\n",
    "hPUvsVar.Draw(\"COLZ\")\n",
    "c.Draw()\n"
   ]
  }
 ],
 "metadata": {
  "kernelspec": {
   "display_name": "Python 3",
   "language": "python",
   "name": "python3"
  },
  "language_info": {
   "codemirror_mode": {
    "name": "ipython",
    "version": 3
   },
   "file_extension": ".py",
   "mimetype": "text/x-python",
   "name": "python",
   "nbconvert_exporter": "python",
   "pygments_lexer": "ipython3",
   "version": "3.8.6"
  }
 },
 "nbformat": 4,
 "nbformat_minor": 5
}
